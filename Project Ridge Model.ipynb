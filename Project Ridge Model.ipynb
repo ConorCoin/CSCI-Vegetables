{
 "cells": [
  {
   "cell_type": "code",
   "execution_count": 75,
   "id": "b14e968f",
   "metadata": {},
   "outputs": [],
   "source": [
    "import pandas as pd\n",
    "import matplotlib.pyplot as plt\n",
    "import numpy as np\n",
    "from sklearn.model_selection import train_test_split\n",
    "from sklearn.linear_model import LinearRegression, Ridge, Lasso\n",
    "from sklearn.metrics import r2_score\n",
    "from scipy.stats import pearsonr"
   ]
  },
  {
   "cell_type": "code",
   "execution_count": 76,
   "id": "d42577da",
   "metadata": {},
   "outputs": [
    {
     "name": "stdout",
     "output_type": "stream",
     "text": [
      "      age  anaemia  creatinine_phosphokinase  diabetes  ejection_fraction  \\\n",
      "0    75.0        0                       582         0                 20   \n",
      "1    55.0        0                      7861         0                 38   \n",
      "2    65.0        0                       146         0                 20   \n",
      "3    50.0        1                       111         0                 20   \n",
      "4    65.0        1                       160         1                 20   \n",
      "..    ...      ...                       ...       ...                ...   \n",
      "294  62.0        0                        61         1                 38   \n",
      "295  55.0        0                      1820         0                 38   \n",
      "296  45.0        0                      2060         1                 60   \n",
      "297  45.0        0                      2413         0                 38   \n",
      "298  50.0        0                       196         0                 45   \n",
      "\n",
      "     high_blood_pressure  platelets  serum_creatinine  serum_sodium  sex  \\\n",
      "0                      1  265000.00               1.9           130    1   \n",
      "1                      0  263358.03               1.1           136    1   \n",
      "2                      0  162000.00               1.3           129    1   \n",
      "3                      0  210000.00               1.9           137    1   \n",
      "4                      0  327000.00               2.7           116    0   \n",
      "..                   ...        ...               ...           ...  ...   \n",
      "294                    1  155000.00               1.1           143    1   \n",
      "295                    0  270000.00               1.2           139    0   \n",
      "296                    0  742000.00               0.8           138    0   \n",
      "297                    0  140000.00               1.4           140    1   \n",
      "298                    0  395000.00               1.6           136    1   \n",
      "\n",
      "     smoking  time  DEATH_EVENT  \n",
      "0          0     4            1  \n",
      "1          0     6            1  \n",
      "2          1     7            1  \n",
      "3          0     7            1  \n",
      "4          0     8            1  \n",
      "..       ...   ...          ...  \n",
      "294        1   270            0  \n",
      "295        0   271            0  \n",
      "296        0   278            0  \n",
      "297        1   280            0  \n",
      "298        1   285            0  \n",
      "\n",
      "[299 rows x 13 columns]\n"
     ]
    }
   ],
   "source": [
    "ds = pd.read_csv('heart_failure_clinical_records_dataset.csv')\n",
    "print(ds)"
   ]
  },
  {
   "cell_type": "code",
   "execution_count": 94,
   "id": "6a0377a7",
   "metadata": {},
   "outputs": [
    {
     "name": "stdout",
     "output_type": "stream",
     "text": [
      "Pearsons correlation: -0.269\n"
     ]
    }
   ],
   "source": [
    "Death = ds[ds['DEATH_EVENT'] == 1]\n",
    "Live = ds[ds['DEATH_EVENT'] == 0]\n",
    "corr, _ = pearsonr(ds['ejection_fraction'], ds['DEATH_EVENT'])\n",
    "print('Pearsons correlation: %.3f' % corr)"
   ]
  },
  {
   "cell_type": "code",
   "execution_count": 97,
   "id": "47acf771",
   "metadata": {},
   "outputs": [],
   "source": [
    "X = ds[['age', 'ejection_fraction', 'serum_creatinine', 'time']]\n",
    "Y = ds['DEATH_EVENT']"
   ]
  },
  {
   "cell_type": "code",
   "execution_count": 98,
   "id": "8b66b716",
   "metadata": {},
   "outputs": [],
   "source": [
    "X_train, X_test, Y_train, Y_test = train_test_split(X, Y, test_size=0.2, random_state=42)"
   ]
  },
  {
   "cell_type": "code",
   "execution_count": 119,
   "id": "689d5ba0",
   "metadata": {},
   "outputs": [],
   "source": [
    "ridge = Ridge(1500)\n",
    "ridge.fit(X_train, Y_train)\n",
    "yTrain_predict_ridge = ridge.predict(X_train)\n",
    "yTest_predict_ridge = ridge.predict(X_test)"
   ]
  },
  {
   "cell_type": "code",
   "execution_count": 120,
   "id": "cd42e006",
   "metadata": {
    "scrolled": true
   },
   "outputs": [
    {
     "name": "stdout",
     "output_type": "stream",
     "text": [
      "Ridge Regression\n",
      "Coef = [ 0.00628723 -0.0086156   0.01528325 -0.00280259]\n",
      "Intercept = 0.5924084498962221\n",
      "Training R^2 = 0.38424581799917756\n",
      "Testing R^2  = 0.3010077341992843\n"
     ]
    }
   ],
   "source": [
    "print(\"Ridge Regression\")\n",
    "print(f\"Coef = {ridge.coef_}\")\n",
    "print(f\"Intercept = {ridge.intercept_}\")\n",
    "print(f\"Training R^2 = {r2_score(Y_train, yTrain_predict_ridge)}\")\n",
    "print(f\"Testing R^2  = {r2_score(Y_test, yTest_predict_ridge)}\")"
   ]
  }
 ],
 "metadata": {
  "kernelspec": {
   "display_name": "Python 3 (ipykernel)",
   "language": "python",
   "name": "python3"
  },
  "language_info": {
   "codemirror_mode": {
    "name": "ipython",
    "version": 3
   },
   "file_extension": ".py",
   "mimetype": "text/x-python",
   "name": "python",
   "nbconvert_exporter": "python",
   "pygments_lexer": "ipython3",
   "version": "3.11.4"
  }
 },
 "nbformat": 4,
 "nbformat_minor": 5
}
